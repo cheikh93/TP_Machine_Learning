{
 "cells": [
  {
   "cell_type": "code",
   "execution_count": 61,
   "metadata": {},
   "outputs": [],
   "source": [
    "import numpy as np\n",
    "import pandas as pd\n",
    "import matplotlib.pyplot as plt\n"
   ]
  },
  {
   "cell_type": "markdown",
   "metadata": {},
   "source": [
    "# chargement des donnees du fichier Salaire_employes.csv"
   ]
  },
  {
   "cell_type": "code",
   "execution_count": 62,
   "metadata": {},
   "outputs": [
    {
     "data": {
      "text/plain": [
       "(30, 1)"
      ]
     },
     "execution_count": 62,
     "metadata": {},
     "output_type": "execute_result"
    }
   ],
   "source": [
    "donnees=pd.read_csv('Salaire_employes.csv')\n",
    "x=donnees.iloc[:,:-1].values # \n",
    "x.shape"
   ]
  },
  {
   "cell_type": "code",
   "execution_count": 63,
   "metadata": {},
   "outputs": [
    {
     "data": {
      "text/plain": [
       "(30,)"
      ]
     },
     "execution_count": 63,
     "metadata": {},
     "output_type": "execute_result"
    }
   ],
   "source": [
    "y=donnees.iloc[:,-1].values\n",
    "y.shape"
   ]
  },
  {
   "cell_type": "code",
   "execution_count": 64,
   "metadata": {},
   "outputs": [
    {
     "data": {
      "text/plain": [
       "(30, 1)"
      ]
     },
     "execution_count": 64,
     "metadata": {},
     "output_type": "execute_result"
    }
   ],
   "source": [
    "y=y.reshape(y.shape[0],1)\n",
    "y.shape"
   ]
  },
  {
   "cell_type": "markdown",
   "metadata": {},
   "source": [
    "# observation du dataset"
   ]
  },
  {
   "cell_type": "code",
   "execution_count": 77,
   "metadata": {},
   "outputs": [
    {
     "data": {
      "text/plain": [
       "<matplotlib.legend.Legend at 0x27b3883de48>"
      ]
     },
     "execution_count": 77,
     "metadata": {},
     "output_type": "execute_result"
    },
    {
     "data": {
      "image/png": "[encoded data removed]",
      "text/plain": [
       "<Figure size 432x288 with 1 Axes>"
      ]
     },
     "metadata": {
      "needs_background": "light"
     },
     "output_type": "display_data"
    }
   ],
   "source": [
    "plt.scatter(x,y,c='r')\n",
    "plt.legend([\"x/y\"],loc='best')"
   ]
  },
  {
   "cell_type": "markdown",
   "metadata": {},
   "source": [
    "# Definition du MODELE"
   ]
  },
  {
   "cell_type": "markdown",
   "metadata": {},
   "source": [
    "# Parametre F= X.O"
   ]
  },
  {
   "cell_type": "code",
   "execution_count": 78,
   "metadata": {},
   "outputs": [
    {
     "data": {
      "text/plain": [
       "array([[ 1.1,  1. ],\n",
       "       [ 1.3,  1. ],\n",
       "       [ 1.5,  1. ],\n",
       "       [ 2. ,  1. ],\n",
       "       [ 2.2,  1. ],\n",
       "       [ 2.9,  1. ],\n",
       "       [ 3. ,  1. ],\n",
       "       [ 3.2,  1. ],\n",
       "       [ 3.2,  1. ],\n",
       "       [ 3.7,  1. ],\n",
       "       [ 3.9,  1. ],\n",
       "       [ 4. ,  1. ],\n",
       "       [ 4. ,  1. ],\n",
       "       [ 4.1,  1. ],\n",
       "       [ 4.5,  1. ],\n",
       "       [ 4.9,  1. ],\n",
       "       [ 5.1,  1. ],\n",
       "       [ 5.3,  1. ],\n",
       "       [ 5.9,  1. ],\n",
       "       [ 6. ,  1. ],\n",
       "       [ 6.8,  1. ],\n",
       "       [ 7.1,  1. ],\n",
       "       [ 7.9,  1. ],\n",
       "       [ 8.2,  1. ],\n",
       "       [ 8.7,  1. ],\n",
       "       [ 9. ,  1. ],\n",
       "       [ 9.5,  1. ],\n",
       "       [ 9.6,  1. ],\n",
       "       [10.3,  1. ],\n",
       "       [10.5,  1. ]])"
      ]
     },
     "execution_count": 78,
     "metadata": {},
     "output_type": "execute_result"
    }
   ],
   "source": [
    "# x est ' une matrice' que l'on doit concatener avec une colone rempli de 1\n",
    "X=np.hstack((x,np.ones(x.shape)))\n",
    "X\n"
   ]
  },
  {
   "cell_type": "code",
   "execution_count": 79,
   "metadata": {},
   "outputs": [],
   "source": [
    "def model(X,O):\n",
    "    return X.dot(O)"
   ]
  },
  {
   "cell_type": "code",
   "execution_count": 80,
   "metadata": {},
   "outputs": [],
   "source": [
    "# calcul des theta\n",
    "O=np.random.randn(2,1)"
   ]
  },
  {
   "cell_type": "code",
   "execution_count": 81,
   "metadata": {},
   "outputs": [
    {
     "data": {
      "text/plain": [
       "array([[-0.1689948 ],\n",
       "       [-0.09797641],\n",
       "       [-0.02695803],\n",
       "       [ 0.15058794],\n",
       "       [ 0.22160633],\n",
       "       [ 0.47017069],\n",
       "       [ 0.50567988],\n",
       "       [ 0.57669827],\n",
       "       [ 0.57669827],\n",
       "       [ 0.75424424],\n",
       "       [ 0.82526263],\n",
       "       [ 0.86077182],\n",
       "       [ 0.86077182],\n",
       "       [ 0.89628101],\n",
       "       [ 1.03831779],\n",
       "       [ 1.18035456],\n",
       "       [ 1.25137295],\n",
       "       [ 1.32239134],\n",
       "       [ 1.5354465 ],\n",
       "       [ 1.5709557 ],\n",
       "       [ 1.85502925],\n",
       "       [ 1.96155683],\n",
       "       [ 2.24563038],\n",
       "       [ 2.35215796],\n",
       "       [ 2.52970393],\n",
       "       [ 2.63623151],\n",
       "       [ 2.81377748],\n",
       "       [ 2.84928667],\n",
       "       [ 3.09785103],\n",
       "       [ 3.16886942]])"
      ]
     },
     "execution_count": 81,
     "metadata": {},
     "output_type": "execute_result"
    }
   ],
   "source": [
    "# teste du modele\n",
    "model(X,O)"
   ]
  },
  {
   "cell_type": "markdown",
   "metadata": {},
   "source": [
    "# Fonction COUT :j(O)=1/2*m*somme(X.O-Y)^2"
   ]
  },
  {
   "cell_type": "code",
   "execution_count": 82,
   "metadata": {},
   "outputs": [],
   "source": [
    "def fonction_cout(X,O,y):\n",
    "    m=len(y)\n",
    "    return 1/2*m*np.sum((model(X,O)-y)**2)"
   ]
  },
  {
   "cell_type": "code",
   "execution_count": 83,
   "metadata": {},
   "outputs": [
    {
     "data": {
      "text/plain": [
       "2926215582550.267"
      ]
     },
     "execution_count": 83,
     "metadata": {},
     "output_type": "execute_result"
    }
   ],
   "source": [
    "# teste de la fonction\n",
    "fonction_cout(X,O,y)# retourne toujours une valeur\n"
   ]
  },
  {
   "cell_type": "markdown",
   "metadata": {},
   "source": [
    " # GRADIENT dj(O)/d(O)=1/m*XT.(X.O-y)"
   ]
  },
  {
   "cell_type": "code",
   "execution_count": 84,
   "metadata": {},
   "outputs": [],
   "source": [
    "def grad(X,O,y):\n",
    "    m=len(y)\n",
    "    return 1/m*X.T.dot(model(X,O)-y)"
   ]
  },
  {
   "cell_type": "code",
   "execution_count": 85,
   "metadata": {},
   "outputs": [
    {
     "data": {
      "text/plain": [
       "array([[-477388.88409175],\n",
       "       [ -76001.6728741 ]])"
      ]
     },
     "execution_count": 85,
     "metadata": {},
     "output_type": "execute_result"
    }
   ],
   "source": [
    "# teste de la fonction\n",
    "grad(X,O,y)"
   ]
  },
  {
   "cell_type": "markdown",
   "metadata": {},
   "source": [
    "# GRADIENT DESCENTE"
   ]
  },
  {
   "cell_type": "code",
   "execution_count": 95,
   "metadata": {},
   "outputs": [],
   "source": [
    "def gradient_descente(X,O,y,learning_rate,n_iterations):\n",
    "            cost_history=np.zeros(n_iterations)\n",
    "            for i in range(0,n_iterations):\n",
    "                           O=O-learning_rate*grad(X,O,y)\n",
    "                           cost_history[i]= fonction_cout(X,O,y)\n",
    "            return O, cost_history"
   ]
  },
  {
   "cell_type": "markdown",
   "metadata": {},
   "source": [
    "# Machine Learning"
   ]
  },
  {
   "cell_type": "code",
   "execution_count": 96,
   "metadata": {},
   "outputs": [],
   "source": [
    "theta_final, cost_history=gradient_descente(X,O,y,learning_rate=0.01,n_iterations=1000)"
   ]
  },
  {
   "cell_type": "code",
   "execution_count": 97,
   "metadata": {},
   "outputs": [
    {
     "name": "stdout",
     "output_type": "stream",
     "text": [
      "[[ 9876.12345108]\n",
      " [22920.41345618]] [1.21010729e+12 5.24624362e+11 2.50731533e+11 1.41211500e+11\n",
      " 9.73358066e+10 7.96763530e+10 7.24871708e+10 6.94799635e+10\n",
      " 6.81434409e+10 6.74746941e+10 6.70732000e+10 6.67790038e+10\n",
      " 6.65282237e+10 6.62953454e+10 6.60701774e+10 6.58486469e+10\n",
      " 6.56291254e+10 6.54109600e+10 6.51938876e+10 6.49778010e+10\n",
      " 6.47626547e+10 6.45484286e+10 6.43351122e+10 6.41226989e+10\n",
      " 6.39111840e+10 6.37005633e+10 6.34908327e+10 6.32819885e+10\n",
      " 6.30740270e+10 6.28669442e+10 6.26607366e+10 6.24554004e+10\n",
      " 6.22509320e+10 6.20473277e+10 6.18445837e+10 6.16426966e+10\n",
      " 6.14416627e+10 6.12414783e+10 6.10421399e+10 6.08436439e+10\n",
      " 6.06459868e+10 6.04491649e+10 6.02531749e+10 6.00580130e+10\n",
      " 5.98636760e+10 5.96701602e+10 5.94774622e+10 5.92855785e+10\n",
      " 5.90945057e+10 5.89042404e+10 5.87147792e+10 5.85261186e+10\n",
      " 5.83382553e+10 5.81511860e+10 5.79649071e+10 5.77794155e+10\n",
      " 5.75947078e+10 5.74107807e+10 5.72276308e+10 5.70452549e+10\n",
      " 5.68636497e+10 5.66828120e+10 5.65027385e+10 5.63234261e+10\n",
      " 5.61448713e+10 5.59670712e+10 5.57900224e+10 5.56137219e+10\n",
      " 5.54381664e+10 5.52633528e+10 5.50892779e+10 5.49159387e+10\n",
      " 5.47433320e+10 5.45714548e+10 5.44003039e+10 5.42298763e+10\n",
      " 5.40601689e+10 5.38911787e+10 5.37229026e+10 5.35553377e+10\n",
      " 5.33884810e+10 5.32223293e+10 5.30568798e+10 5.28921295e+10\n",
      " 5.27280754e+10 5.25647147e+10 5.24020443e+10 5.22400613e+10\n",
      " 5.20787629e+10 5.19181461e+10 5.17582081e+10 5.15989459e+10\n",
      " 5.14403569e+10 5.12824380e+10 5.11251865e+10 5.09685995e+10\n",
      " 5.08126743e+10 5.06574080e+10 5.05027978e+10 5.03488411e+10\n",
      " 5.01955349e+10 5.00428767e+10 4.98908635e+10 4.97394928e+10\n",
      " 4.95887618e+10 4.94386677e+10 4.92892080e+10 4.91403799e+10\n",
      " 4.89921807e+10 4.88446078e+10 4.86976585e+10 4.85513303e+10\n",
      " 4.84056204e+10 4.82605263e+10 4.81160454e+10 4.79721751e+10\n",
      " 4.78289127e+10 4.76862558e+10 4.75442017e+10 4.74027480e+10\n",
      " 4.72618920e+10 4.71216313e+10 4.69819634e+10 4.68428857e+10\n",
      " 4.67043957e+10 4.65664910e+10 4.64291690e+10 4.62924274e+10\n",
      " 4.61562637e+10 4.60206754e+10 4.58856600e+10 4.57512153e+10\n",
      " 4.56173387e+10 4.54840279e+10 4.53512804e+10 4.52190940e+10\n",
      " 4.50874661e+10 4.49563946e+10 4.48258769e+10 4.46959108e+10\n",
      " 4.45664939e+10 4.44376240e+10 4.43092986e+10 4.41815156e+10\n",
      " 4.40542725e+10 4.39275672e+10 4.38013974e+10 4.36757607e+10\n",
      " 4.35506550e+10 4.34260780e+10 4.33020274e+10 4.31785011e+10\n",
      " 4.30554968e+10 4.29330123e+10 4.28110454e+10 4.26895940e+10\n",
      " 4.25686558e+10 4.24482287e+10 4.23283106e+10 4.22088992e+10\n",
      " 4.20899924e+10 4.19715881e+10 4.18536843e+10 4.17362786e+10\n",
      " 4.16193692e+10 4.15029537e+10 4.13870303e+10 4.12715968e+10\n",
      " 4.11566510e+10 4.10421911e+10 4.09282148e+10 4.08147202e+10\n",
      " 4.07017052e+10 4.05891679e+10 4.04771061e+10 4.03655179e+10\n",
      " 4.02544012e+10 4.01437542e+10 4.00335747e+10 3.99238609e+10\n",
      " 3.98146107e+10 3.97058222e+10 3.95974934e+10 3.94896224e+10\n",
      " 3.93822073e+10 3.92752461e+10 3.91687370e+10 3.90626779e+10\n",
      " 3.89570671e+10 3.88519026e+10 3.87471825e+10 3.86429049e+10\n",
      " 3.85390680e+10 3.84356700e+10 3.83327088e+10 3.82301829e+10\n",
      " 3.81280901e+10 3.80264289e+10 3.79251972e+10 3.78243934e+10\n",
      " 3.77240155e+10 3.76240618e+10 3.75245306e+10 3.74254199e+10\n",
      " 3.73267282e+10 3.72284534e+10 3.71305940e+10 3.70331482e+10\n",
      " 3.69361141e+10 3.68394901e+10 3.67432745e+10 3.66474654e+10\n",
      " 3.65520613e+10 3.64570603e+10 3.63624608e+10 3.62682610e+10\n",
      " 3.61744594e+10 3.60810542e+10 3.59880436e+10 3.58954262e+10\n",
      " 3.58032002e+10 3.57113639e+10 3.56199157e+10 3.55288539e+10\n",
      " 3.54381770e+10 3.53478833e+10 3.52579712e+10 3.51684390e+10\n",
      " 3.50792852e+10 3.49905082e+10 3.49021063e+10 3.48140780e+10\n",
      " 3.47264218e+10 3.46391359e+10 3.45522190e+10 3.44656693e+10\n",
      " 3.43794854e+10 3.42936657e+10 3.42082087e+10 3.41231129e+10\n",
      " 3.40383766e+10 3.39539985e+10 3.38699769e+10 3.37863104e+10\n",
      " 3.37029974e+10 3.36200366e+10 3.35374263e+10 3.34551652e+10\n",
      " 3.33732517e+10 3.32916844e+10 3.32104617e+10 3.31295823e+10\n",
      " 3.30490447e+10 3.29688475e+10 3.28889892e+10 3.28094683e+10\n",
      " 3.27302835e+10 3.26514334e+10 3.25729164e+10 3.24947313e+10\n",
      " 3.24168766e+10 3.23393509e+10 3.22621528e+10 3.21852810e+10\n",
      " 3.21087340e+10 3.20325105e+10 3.19566091e+10 3.18810285e+10\n",
      " 3.18057673e+10 3.17308241e+10 3.16561977e+10 3.15818866e+10\n",
      " 3.15078896e+10 3.14342052e+10 3.13608323e+10 3.12877694e+10\n",
      " 3.12150153e+10 3.11425687e+10 3.10704282e+10 3.09985926e+10\n",
      " 3.09270606e+10 3.08558308e+10 3.07849021e+10 3.07142731e+10\n",
      " 3.06439426e+10 3.05739093e+10 3.05041720e+10 3.04347294e+10\n",
      " 3.03655802e+10 3.02967233e+10 3.02281573e+10 3.01598812e+10\n",
      " 3.00918935e+10 3.00241932e+10 2.99567790e+10 2.98896496e+10\n",
      " 2.98228040e+10 2.97562408e+10 2.96899590e+10 2.96239572e+10\n",
      " 2.95582344e+10 2.94927893e+10 2.94276208e+10 2.93627276e+10\n",
      " 2.92981088e+10 2.92337630e+10 2.91696891e+10 2.91058860e+10\n",
      " 2.90423525e+10 2.89790876e+10 2.89160899e+10 2.88533586e+10\n",
      " 2.87908923e+10 2.87286900e+10 2.86667505e+10 2.86050729e+10\n",
      " 2.85436558e+10 2.84824983e+10 2.84215993e+10 2.83609576e+10\n",
      " 2.83005722e+10 2.82404420e+10 2.81805659e+10 2.81209429e+10\n",
      " 2.80615718e+10 2.80024516e+10 2.79435812e+10 2.78849596e+10\n",
      " 2.78265858e+10 2.77684587e+10 2.77105772e+10 2.76529403e+10\n",
      " 2.75955469e+10 2.75383962e+10 2.74814869e+10 2.74248182e+10\n",
      " 2.73683889e+10 2.73121981e+10 2.72562447e+10 2.72005278e+10\n",
      " 2.71450464e+10 2.70897995e+10 2.70347860e+10 2.69800050e+10\n",
      " 2.69254555e+10 2.68711365e+10 2.68170471e+10 2.67631862e+10\n",
      " 2.67095530e+10 2.66561464e+10 2.66029656e+10 2.65500094e+10\n",
      " 2.64972771e+10 2.64447676e+10 2.63924800e+10 2.63404134e+10\n",
      " 2.62885668e+10 2.62369393e+10 2.61855300e+10 2.61343380e+10\n",
      " 2.60833623e+10 2.60326020e+10 2.59820562e+10 2.59317240e+10\n",
      " 2.58816046e+10 2.58316969e+10 2.57820002e+10 2.57325134e+10\n",
      " 2.56832358e+10 2.56341665e+10 2.55853045e+10 2.55366490e+10\n",
      " 2.54881991e+10 2.54399540e+10 2.53919127e+10 2.53440745e+10\n",
      " 2.52964384e+10 2.52490037e+10 2.52017694e+10 2.51547347e+10\n",
      " 2.51078988e+10 2.50612608e+10 2.50148199e+10 2.49685753e+10\n",
      " 2.49225261e+10 2.48766715e+10 2.48310107e+10 2.47855428e+10\n",
      " 2.47402671e+10 2.46951828e+10 2.46502889e+10 2.46055848e+10\n",
      " 2.45610696e+10 2.45167425e+10 2.44726028e+10 2.44286495e+10\n",
      " 2.43848821e+10 2.43412995e+10 2.42979012e+10 2.42546863e+10\n",
      " 2.42116540e+10 2.41688035e+10 2.41261341e+10 2.40836451e+10\n",
      " 2.40413356e+10 2.39992049e+10 2.39572523e+10 2.39154769e+10\n",
      " 2.38738781e+10 2.38324551e+10 2.37912071e+10 2.37501335e+10\n",
      " 2.37092334e+10 2.36685062e+10 2.36279511e+10 2.35875674e+10\n",
      " 2.35473543e+10 2.35073112e+10 2.34674373e+10 2.34277319e+10\n",
      " 2.33881943e+10 2.33488237e+10 2.33096196e+10 2.32705812e+10\n",
      " 2.32317077e+10 2.31929985e+10 2.31544528e+10 2.31160701e+10\n",
      " 2.30778496e+10 2.30397906e+10 2.30018924e+10 2.29641544e+10\n",
      " 2.29265759e+10 2.28891562e+10 2.28518946e+10 2.28147905e+10\n",
      " 2.27778432e+10 2.27410520e+10 2.27044163e+10 2.26679354e+10\n",
      " 2.26316087e+10 2.25954356e+10 2.25594152e+10 2.25235471e+10\n",
      " 2.24878306e+10 2.24522650e+10 2.24168498e+10 2.23815841e+10\n",
      " 2.23464676e+10 2.23114994e+10 2.22766790e+10 2.22420057e+10\n",
      " 2.22074790e+10 2.21730982e+10 2.21388627e+10 2.21047718e+10\n",
      " 2.20708250e+10 2.20370217e+10 2.20033613e+10 2.19698430e+10\n",
      " 2.19364665e+10 2.19032310e+10 2.18701359e+10 2.18371807e+10\n",
      " 2.18043648e+10 2.17716875e+10 2.17391483e+10 2.17067467e+10\n",
      " 2.16744820e+10 2.16423536e+10 2.16103610e+10 2.15785036e+10\n",
      " 2.15467808e+10 2.15151921e+10 2.14837369e+10 2.14524146e+10\n",
      " 2.14212247e+10 2.13901666e+10 2.13592397e+10 2.13284436e+10\n",
      " 2.12977776e+10 2.12672412e+10 2.12368338e+10 2.12065549e+10\n",
      " 2.11764040e+10 2.11463805e+10 2.11164839e+10 2.10867136e+10\n",
      " 2.10570691e+10 2.10275500e+10 2.09981555e+10 2.09688853e+10\n",
      " 2.09397388e+10 2.09107154e+10 2.08818147e+10 2.08530362e+10\n",
      " 2.08243792e+10 2.07958434e+10 2.07674281e+10 2.07391330e+10\n",
      " 2.07109574e+10 2.06829009e+10 2.06549629e+10 2.06271430e+10\n",
      " 2.05994407e+10 2.05718555e+10 2.05443868e+10 2.05170342e+10\n",
      " 2.04897972e+10 2.04626753e+10 2.04356680e+10 2.04087749e+10\n",
      " 2.03819954e+10 2.03553290e+10 2.03287754e+10 2.03023340e+10\n",
      " 2.02760043e+10 2.02497859e+10 2.02236783e+10 2.01976810e+10\n",
      " 2.01717936e+10 2.01460156e+10 2.01203465e+10 2.00947859e+10\n",
      " 2.00693333e+10 2.00439883e+10 2.00187504e+10 1.99936191e+10\n",
      " 1.99685941e+10 1.99436748e+10 1.99188608e+10 1.98941517e+10\n",
      " 1.98695470e+10 1.98450463e+10 1.98206491e+10 1.97963550e+10\n",
      " 1.97721636e+10 1.97480744e+10 1.97240870e+10 1.97002010e+10\n",
      " 1.96764160e+10 1.96527314e+10 1.96291470e+10 1.96056622e+10\n",
      " 1.95822766e+10 1.95589899e+10 1.95358016e+10 1.95127113e+10\n",
      " 1.94897186e+10 1.94668230e+10 1.94440242e+10 1.94213217e+10\n",
      " 1.93987152e+10 1.93762042e+10 1.93537883e+10 1.93314672e+10\n",
      " 1.93092404e+10 1.92871076e+10 1.92650682e+10 1.92431220e+10\n",
      " 1.92212686e+10 1.91995075e+10 1.91778383e+10 1.91562608e+10\n",
      " 1.91347744e+10 1.91133788e+10 1.90920737e+10 1.90708585e+10\n",
      " 1.90497331e+10 1.90286969e+10 1.90077496e+10 1.89868908e+10\n",
      " 1.89661202e+10 1.89454374e+10 1.89248419e+10 1.89043335e+10\n",
      " 1.88839118e+10 1.88635764e+10 1.88433269e+10 1.88231630e+10\n",
      " 1.88030843e+10 1.87830904e+10 1.87631810e+10 1.87433558e+10\n",
      " 1.87236144e+10 1.87039564e+10 1.86843814e+10 1.86648892e+10\n",
      " 1.86454794e+10 1.86261516e+10 1.86069054e+10 1.85877406e+10\n",
      " 1.85686568e+10 1.85496537e+10 1.85307308e+10 1.85118879e+10\n",
      " 1.84931247e+10 1.84744407e+10 1.84558357e+10 1.84373093e+10\n",
      " 1.84188612e+10 1.84004911e+10 1.83821986e+10 1.83639834e+10\n",
      " 1.83458452e+10 1.83277836e+10 1.83097984e+10 1.82918892e+10\n",
      " 1.82740556e+10 1.82562974e+10 1.82386143e+10 1.82210059e+10\n",
      " 1.82034719e+10 1.81860120e+10 1.81686259e+10 1.81513133e+10\n",
      " 1.81340738e+10 1.81169072e+10 1.80998131e+10 1.80827913e+10\n",
      " 1.80658414e+10 1.80489631e+10 1.80321562e+10 1.80154203e+10\n",
      " 1.79987551e+10 1.79821603e+10 1.79656357e+10 1.79491809e+10\n",
      " 1.79327956e+10 1.79164796e+10 1.79002326e+10 1.78840542e+10\n",
      " 1.78679441e+10 1.78519022e+10 1.78359280e+10 1.78200214e+10\n",
      " 1.78041819e+10 1.77884094e+10 1.77727036e+10 1.77570641e+10\n",
      " 1.77414908e+10 1.77259832e+10 1.77105412e+10 1.76951644e+10\n",
      " 1.76798526e+10 1.76646055e+10 1.76494229e+10 1.76343044e+10\n",
      " 1.76192498e+10 1.76042588e+10 1.75893312e+10 1.75744667e+10\n",
      " 1.75596650e+10 1.75449258e+10 1.75302489e+10 1.75156341e+10\n",
      " 1.75010810e+10 1.74865894e+10 1.74721590e+10 1.74577897e+10\n",
      " 1.74434810e+10 1.74292329e+10 1.74150449e+10 1.74009169e+10\n",
      " 1.73868486e+10 1.73728398e+10 1.73588901e+10 1.73449994e+10\n",
      " 1.73311674e+10 1.73173939e+10 1.73036786e+10 1.72900212e+10\n",
      " 1.72764216e+10 1.72628794e+10 1.72493944e+10 1.72359665e+10\n",
      " 1.72225952e+10 1.72092805e+10 1.71960221e+10 1.71828197e+10\n",
      " 1.71696731e+10 1.71565820e+10 1.71435463e+10 1.71305656e+10\n",
      " 1.71176398e+10 1.71047686e+10 1.70919519e+10 1.70791893e+10\n",
      " 1.70664806e+10 1.70538256e+10 1.70412241e+10 1.70286759e+10\n",
      " 1.70161807e+10 1.70037383e+10 1.69913485e+10 1.69790110e+10\n",
      " 1.69667257e+10 1.69544923e+10 1.69423106e+10 1.69301803e+10\n",
      " 1.69181014e+10 1.69060734e+10 1.68940963e+10 1.68821699e+10\n",
      " 1.68702938e+10 1.68584679e+10 1.68466920e+10 1.68349659e+10\n",
      " 1.68232893e+10 1.68116620e+10 1.68000839e+10 1.67885547e+10\n",
      " 1.67770743e+10 1.67656423e+10 1.67542587e+10 1.67429232e+10\n",
      " 1.67316356e+10 1.67203957e+10 1.67092032e+10 1.66980581e+10\n",
      " 1.66869601e+10 1.66759090e+10 1.66649046e+10 1.66539467e+10\n",
      " 1.66430351e+10 1.66321696e+10 1.66213500e+10 1.66105762e+10\n",
      " 1.65998478e+10 1.65891649e+10 1.65785270e+10 1.65679341e+10\n",
      " 1.65573860e+10 1.65468825e+10 1.65364233e+10 1.65260084e+10\n",
      " 1.65156375e+10 1.65053103e+10 1.64950269e+10 1.64847869e+10\n",
      " 1.64745901e+10 1.64644365e+10 1.64543258e+10 1.64442578e+10\n",
      " 1.64342323e+10 1.64242492e+10 1.64143083e+10 1.64044094e+10\n",
      " 1.63945524e+10 1.63847369e+10 1.63749630e+10 1.63652304e+10\n",
      " 1.63555389e+10 1.63458884e+10 1.63362786e+10 1.63267095e+10\n",
      " 1.63171808e+10 1.63076924e+10 1.62982440e+10 1.62888356e+10\n",
      " 1.62794670e+10 1.62701379e+10 1.62608483e+10 1.62515979e+10\n",
      " 1.62423867e+10 1.62332143e+10 1.62240807e+10 1.62149857e+10\n",
      " 1.62059292e+10 1.61969109e+10 1.61879307e+10 1.61789885e+10\n",
      " 1.61700841e+10 1.61612173e+10 1.61523879e+10 1.61435959e+10\n",
      " 1.61348411e+10 1.61261232e+10 1.61174422e+10 1.61087978e+10\n",
      " 1.61001900e+10 1.60916186e+10 1.60830834e+10 1.60745843e+10\n",
      " 1.60661210e+10 1.60576936e+10 1.60493017e+10 1.60409454e+10\n",
      " 1.60326243e+10 1.60243384e+10 1.60160875e+10 1.60078715e+10\n",
      " 1.59996902e+10 1.59915435e+10 1.59834312e+10 1.59753532e+10\n",
      " 1.59673093e+10 1.59592995e+10 1.59513234e+10 1.59433811e+10\n",
      " 1.59354724e+10 1.59275970e+10 1.59197550e+10 1.59119461e+10\n",
      " 1.59041702e+10 1.58964271e+10 1.58887168e+10 1.58810390e+10\n",
      " 1.58733938e+10 1.58657808e+10 1.58581999e+10 1.58506512e+10\n",
      " 1.58431343e+10 1.58356492e+10 1.58281957e+10 1.58207737e+10\n",
      " 1.58133831e+10 1.58060237e+10 1.57986954e+10 1.57913981e+10\n",
      " 1.57841316e+10 1.57768959e+10 1.57696907e+10 1.57625160e+10\n",
      " 1.57553715e+10 1.57482573e+10 1.57411731e+10 1.57341189e+10\n",
      " 1.57270945e+10 1.57200998e+10 1.57131346e+10 1.57061989e+10\n",
      " 1.56992925e+10 1.56924152e+10 1.56855670e+10 1.56787478e+10\n",
      " 1.56719574e+10 1.56651957e+10 1.56584625e+10 1.56517578e+10\n",
      " 1.56450815e+10 1.56384333e+10 1.56318133e+10 1.56252212e+10\n",
      " 1.56186570e+10 1.56121205e+10 1.56056117e+10 1.55991304e+10\n",
      " 1.55926764e+10 1.55862497e+10 1.55798502e+10 1.55734777e+10\n",
      " 1.55671322e+10 1.55608135e+10 1.55545214e+10 1.55482560e+10\n",
      " 1.55420170e+10 1.55358045e+10 1.55296181e+10 1.55234579e+10\n",
      " 1.55173238e+10 1.55112155e+10 1.55051331e+10 1.54990764e+10\n",
      " 1.54930453e+10 1.54870396e+10 1.54810594e+10 1.54751044e+10\n",
      " 1.54691746e+10 1.54632698e+10 1.54573900e+10 1.54515350e+10\n",
      " 1.54457048e+10 1.54398992e+10 1.54341182e+10 1.54283616e+10\n",
      " 1.54226293e+10 1.54169213e+10 1.54112373e+10 1.54055774e+10\n",
      " 1.53999414e+10 1.53943292e+10 1.53887408e+10 1.53831759e+10\n",
      " 1.53776346e+10 1.53721167e+10 1.53666221e+10 1.53611507e+10\n",
      " 1.53557025e+10 1.53502772e+10 1.53448749e+10 1.53394955e+10\n",
      " 1.53341387e+10 1.53288046e+10 1.53234931e+10 1.53182040e+10\n",
      " 1.53129372e+10 1.53076927e+10 1.53024704e+10 1.52972701e+10\n",
      " 1.52920918e+10 1.52869354e+10 1.52818008e+10 1.52766879e+10\n",
      " 1.52715966e+10 1.52665268e+10 1.52614784e+10 1.52564514e+10\n",
      " 1.52514456e+10 1.52464609e+10 1.52414974e+10 1.52365548e+10\n",
      " 1.52316331e+10 1.52267321e+10 1.52218519e+10 1.52169924e+10\n",
      " 1.52121533e+10 1.52073347e+10 1.52025365e+10 1.51977586e+10\n",
      " 1.51930008e+10 1.51882632e+10 1.51835455e+10 1.51788478e+10\n",
      " 1.51741700e+10 1.51695119e+10 1.51648736e+10 1.51602548e+10\n",
      " 1.51556555e+10 1.51510757e+10 1.51465152e+10 1.51419740e+10\n",
      " 1.51374520e+10 1.51329491e+10 1.51284652e+10 1.51240003e+10\n",
      " 1.51195542e+10 1.51151270e+10 1.51107184e+10 1.51063285e+10\n",
      " 1.51019571e+10 1.50976042e+10 1.50932697e+10 1.50889535e+10\n",
      " 1.50846556e+10 1.50803758e+10 1.50761141e+10 1.50718704e+10\n",
      " 1.50676447e+10 1.50634368e+10 1.50592467e+10 1.50550743e+10\n",
      " 1.50509195e+10 1.50467823e+10 1.50426625e+10 1.50385602e+10\n",
      " 1.50344752e+10 1.50304075e+10 1.50263570e+10 1.50223236e+10\n",
      " 1.50183072e+10 1.50143078e+10 1.50103253e+10 1.50063597e+10\n",
      " 1.50024107e+10 1.49984785e+10 1.49945629e+10 1.49906639e+10\n",
      " 1.49867813e+10 1.49829151e+10 1.49790653e+10 1.49752318e+10\n",
      " 1.49714144e+10 1.49676132e+10 1.49638280e+10 1.49600588e+10\n",
      " 1.49563056e+10 1.49525682e+10 1.49488466e+10 1.49451408e+10\n",
      " 1.49414506e+10 1.49377760e+10 1.49341169e+10 1.49304733e+10\n",
      " 1.49268451e+10 1.49232322e+10 1.49196346e+10 1.49160522e+10\n",
      " 1.49124850e+10 1.49089328e+10 1.49053956e+10 1.49018734e+10\n",
      " 1.48983660e+10 1.48948735e+10 1.48913957e+10 1.48879327e+10\n",
      " 1.48844842e+10 1.48810504e+10 1.48776310e+10 1.48742261e+10]\n"
     ]
    }
   ],
   "source": [
    "print(theta_final, cost_history)"
   ]
  },
  {
   "cell_type": "code",
   "execution_count": 98,
   "metadata": {},
   "outputs": [],
   "source": [
    "predictions=model(X,theta_final)"
   ]
  },
  {
   "cell_type": "code",
   "execution_count": 99,
   "metadata": {},
   "outputs": [
    {
     "data": {
      "text/plain": [
       "[<matplotlib.lines.Line2D at 0x27b388652c8>]"
      ]
     },
     "execution_count": 99,
     "metadata": {},
     "output_type": "execute_result"
    },
    {
     "data": {
      "image/png": "[encoded data removed]",
      "text/plain": [
       "<Figure size 432x288 with 1 Axes>"
      ]
     },
     "metadata": {
      "needs_background": "light"
     },
     "output_type": "display_data"
    }
   ],
   "source": [
    "# courbe du nombre d'iterations\n",
    "plt.plot(range(1000), cost_history,c='r',label='cost_history')"
   ]
  },
  {
   "cell_type": "code",
   "execution_count": 100,
   "metadata": {},
   "outputs": [],
   "source": [
    "# a 400"
   ]
  },
  {
   "cell_type": "code",
   "execution_count": 102,
   "metadata": {},
   "outputs": [
    {
     "data": {
      "text/plain": [
       "[<matplotlib.lines.Line2D at 0x27b3896f108>]"
      ]
     },
     "execution_count": 102,
     "metadata": {},
     "output_type": "execute_result"
    },
    {
     "data": {
      "image/png": "[encoded data removed]",
      "text/plain": [
       "<Figure size 432x288 with 1 Axes>"
      ]
     },
     "metadata": {
      "needs_background": "light"
     },
     "output_type": "display_data"
    }
   ],
   "source": [
    "plt.scatter(x,y,c='r')\n",
    "plt.plot(x,predictions,c='black')"
   ]
  },
  {
   "cell_type": "code",
   "execution_count": null,
   "metadata": {},
   "outputs": [],
   "source": []
  }
 ],
 "metadata": {
  "kernelspec": {
   "display_name": "Python 3",
   "language": "python",
   "name": "python3"
  },
  "language_info": {
   "codemirror_mode": {
    "name": "ipython",
    "version": 3
   },
   "file_extension": ".py",
   "mimetype": "text/x-python",
   "name": "python",
   "nbconvert_exporter": "python",
   "pygments_lexer": "ipython3",
   "version": "3.7.6"
  }
 },
 "nbformat": 4,
 "nbformat_minor": 4
}
